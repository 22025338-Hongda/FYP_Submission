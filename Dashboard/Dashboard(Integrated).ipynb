{
 "cells": [
  {
   "cell_type": "code",
   "execution_count": 2,
   "id": "54810827",
   "metadata": {},
   "outputs": [
    {
     "data": {
      "text/html": [
       "\n",
       "        <iframe\n",
       "            width=\"100%\"\n",
       "            height=\"650\"\n",
       "            src=\"http://127.0.0.1:8060/\"\n",
       "            frameborder=\"0\"\n",
       "            allowfullscreen\n",
       "            \n",
       "        ></iframe>\n",
       "        "
      ],
      "text/plain": [
       "<IPython.lib.display.IFrame at 0x209c3b71890>"
      ]
     },
     "metadata": {},
     "output_type": "display_data"
    }
   ],
   "source": [
    "import dash\n",
    "from dash import dcc, html\n",
    "\n",
    "# Initialize the Dash app\n",
    "app_javier = dash.Dash(__name__)\n",
    "\n",
    "# Define the app layout\n",
    "app_javier.layout = html.Div([\n",
    "    html.H1(\"Javier Dashboard\"),\n",
    "\n",
    "    # Include the screenshot as an image\n",
    "    html.Div([\n",
    "        html.H2(\"What is the Average GPA of students from each satisfaction level?\"),\n",
    "        html.Img(src='/assets/AvgGPASatisfaction.png', style={'width': '50%'})\n",
    "    ]),\n",
    "    html.Div([\n",
    "        html.H2(\"What is the most popular Game Genre amongst each gender?\"),\n",
    "        html.Img(src='/assets/GamePopularity.png', style={'width': '50%'})\n",
    "    ]),\n",
    "    html.Div([\n",
    "        html.H2(\"What is the distribution of students playing games with their friends?\"),\n",
    "        html.Img(src='/assets/PlayWFriends.png', style={'width': '50%'})\n",
    "    ]),\n",
    "    html.Div([\n",
    "        html.H2(\"What is the distribution of the reasons students started Gaming?\"),\n",
    "        html.Img(src='/assets/GameReason.png', style={'width': '50%'})\n",
    "    ]),\n",
    "    html.Div([\n",
    "        html.H2(\"What is the average GPA of students that play video games compared to those who don't\"),\n",
    "        html.Img(src='/assets/VideoGameGPA.png', style={'width': '50%'})\n",
    "    ]),\n",
    "    html.Div([\n",
    "        html.H2(\"What is the distribution of the unsatisfied area amongst students they have in school\"),\n",
    "        html.Img(src='/assets/Unsatis.png', style={'width': '50%'})\n",
    "    ]),\n",
    "    html.Div([\n",
    "        html.H2(\"What is the distribution of students with Part-Time jobs?\"),\n",
    "        html.Img(src='/assets/PT.png', style={'width': '50%'})\n",
    "    ]),\n",
    "    html.Div([\n",
    "        html.H2(\"What is the distribution of students amount of CCA(s)\"),\n",
    "        html.Img(src='/assets/CCAC.png', style={'width': '50%'})\n",
    "        \n",
    "    ]),\n",
    "    html.Div([\n",
    "        html.H2(\"K-means Clustering of GPA vs Absences\"),\n",
    "        html.Img(src='/assets/Scatter_GpaAbsence.png', style={'width': '50%'})\n",
    "    ]),\n",
    "    html.Div([\n",
    "        html.H2(\"k-means Clustering of GPA Vs Game Hours\"),\n",
    "        html.Img(src='/assets/Scatter_GpaGameHours.png', style={'width': '50%'})\n",
    "    ]),\n",
    "    \n",
    "    \n",
    "    \n",
    "])\n",
    "\n",
    "# Run the app\n",
    "if __name__ == '__main__':\n",
    "    app_javier.run_server(debug=True, port=8060)"
   ]
  },
  {
   "cell_type": "code",
   "execution_count": 4,
   "id": "1e68601a",
   "metadata": {},
   "outputs": [
    {
     "data": {
      "text/html": [
       "\n",
       "        <iframe\n",
       "            width=\"100%\"\n",
       "            height=\"650\"\n",
       "            src=\"http://127.0.0.1:8061/\"\n",
       "            frameborder=\"0\"\n",
       "            allowfullscreen\n",
       "            \n",
       "        ></iframe>\n",
       "        "
      ],
      "text/plain": [
       "<IPython.lib.display.IFrame at 0x1da2573ff90>"
      ]
     },
     "metadata": {},
     "output_type": "display_data"
    }
   ],
   "source": [
    "import dash\n",
    "from dash import dcc, html\n",
    "# Initialize the Dash app\n",
    "app_daniel = dash.Dash(__name__)\n",
    "\n",
    "# Define the app layout\n",
    "app_daniel.layout = html.Div([\n",
    "    html.H1(\"Daniel Dashboard\"),\n",
    "\n",
    "    # Include the screenshot as an image\n",
    "    html.Div([\n",
    "        html.H2(\"How many hours per week do students with a GPA of 3.0 or higher game?\"),\n",
    "        html.Img(src='/assets/GameHours.png', style={'width': '50%'})\n",
    "    ]),\n",
    "    html.Div([\n",
    "        html.H2(\"How many hours per week do students with a GPA of 3.0 or higher work?\"),\n",
    "        html.Img(src='/assets/Part-TimeHours.png', style={'width': '50%'})\n",
    "    ]),\n",
    "    html.Div([\n",
    "        html.H2(\"How many ccas do students with 3.0 or higher gpa take?\"),\n",
    "        html.Img(src='/assets/CCA.png', style={'width': '50%'})\n",
    "    ]),\n",
    "    html.Div([\n",
    "        html.H2(\"How do class absences impact students acad perform?\"),\n",
    "        html.Img(src='/assets/Abscences.png', style={'width': '50%'})\n",
    "    ]),\n",
    "    html.Div([\n",
    "        html.H2(\"How Does game timing affect students GPA?\"),\n",
    "        html.Img(src='/assets/GameTiming.png', style={'width': '50%'})\n",
    "    ]),\n",
    "    html.Div([\n",
    "        html.H2(\"Agglomerative Clustering\"),\n",
    "        html.Img(src='/assets/AC.png', style={'width': '50%'})\n",
    "    ]),\n",
    "    html.Div([\n",
    "        html.H2(\"Affinity Propagation Clustering\"),\n",
    "        html.Img(src='/assets/AP.png', style={'width': '50%'})\n",
    "    ]),\n",
    "    html.Div([\n",
    "        html.H2(\"BIRCH Clustering\"),\n",
    "        html.Img(src='/assets/BIRCH.png', style={'width': '50%'})\n",
    "    ]),\n",
    "    \n",
    "])\n",
    "\n",
    "# Run the app\n",
    "if __name__ == '__main__':\n",
    "    app_daniel.run_server(debug=True, port=8061)"
   ]
  },
  {
   "cell_type": "code",
   "execution_count": 4,
   "id": "4142380a",
   "metadata": {},
   "outputs": [
    {
     "data": {
      "text/html": [
       "\n",
       "        <iframe\n",
       "            width=\"100%\"\n",
       "            height=\"650\"\n",
       "            src=\"http://127.0.0.1:8062/\"\n",
       "            frameborder=\"0\"\n",
       "            allowfullscreen\n",
       "            \n",
       "        ></iframe>\n",
       "        "
      ],
      "text/plain": [
       "<IPython.lib.display.IFrame at 0x209c3ad2890>"
      ]
     },
     "metadata": {},
     "output_type": "display_data"
    }
   ],
   "source": [
    "import dash\n",
    "from dash import dcc, html\n",
    "# Initialize the Dash app\n",
    "app_hongda = dash.Dash(__name__)\n",
    "\n",
    "# Define the app layout\n",
    "app_hongda.layout = html.Div([\n",
    "    html.H1(\"Hong Da Dashboard\"),\n",
    "    html.Div([\n",
    "        html.H2(\"What is the correlation between the number of CCAs participated in and the current GPA?\"),\n",
    "        html.Img(src='/assets/DataV_Bar.png', style={'width': '50%'})\n",
    "    ]),\n",
    "    html.Div([\n",
    "        html.H2(\"How does the time spent on CCAs (CCA Hours) affect the current GPA?\"),\n",
    "        html.Img(src='/assets/DataV_Line.png', style={'width': '50%'})\n",
    "    ]),\n",
    "    html.Div([\n",
    "        html.H2(\"Distribution of CCA Roles\"),\n",
    "        html.Img(src='/assets/DataV_Pie.png', style={'width': '50%'})\n",
    "    \n",
    "    ]),\n",
    "    html.Div([\n",
    "        html.H2(\"DBSCAN Clustering: DBSCAN Clustering for Current GPA, Absences\"),\n",
    "        html.Img(src='/assets/DBSCAN1.png', style={'width': '50%'})\n",
    "    ]),\n",
    "    html.Div([\n",
    "        html.H2(\"DBSCAN Clustering: DBSCAN Clustering for Desired GPA and Absences\"),\n",
    "        html.Img(src='/assets/DBSCAN2.png', style={'width': '50%'})\n",
    "    ]),\n",
    "    html.Div([\n",
    "        html.H2(\"Mean Shift Clustering: Mean Shift Clustering for Age and Current GPA\"),\n",
    "        html.Img(src='/assets/MeanShift.png', style={'width': '50%'})\n",
    "    ])\n",
    "])\n",
    "\n",
    "# Run the app\n",
    "if __name__ == '__main__':\n",
    "    app_hongda.run_server(debug=True, port=8062)"
   ]
  },
  {
   "cell_type": "code",
   "execution_count": 6,
   "id": "40355980",
   "metadata": {},
   "outputs": [
    {
     "data": {
      "text/html": [
       "\n",
       "        <iframe\n",
       "            width=\"100%\"\n",
       "            height=\"650\"\n",
       "            src=\"http://127.0.0.1:8063/\"\n",
       "            frameborder=\"0\"\n",
       "            allowfullscreen\n",
       "            \n",
       "        ></iframe>\n",
       "        "
      ],
      "text/plain": [
       "<IPython.lib.display.IFrame at 0x1da23bafe50>"
      ]
     },
     "metadata": {},
     "output_type": "display_data"
    }
   ],
   "source": [
    "import dash\n",
    "from dash import dcc, html\n",
    "# Initialize the Dash app\n",
    "app_hongbin = dash.Dash(__name__)\n",
    "\n",
    "# Define the app layout\n",
    "app_hongbin.layout = html.Div([\n",
    "    html.H1(\"Hong Bin Dashboard\"),\n",
    "\n",
    "    # Include the screenshot as an image\n",
    "    html.Div([\n",
    "        html.H2(\"How does the Satisfaction Level of Students affect their Average GPA?\"),\n",
    "        html.Img(src='/assets/AvgGPAbySatisfaction.png', style={'width': '50%'})\n",
    "    ]),\n",
    "    html.Div([\n",
    "        html.H2(\"How does the number of Hours student work affect their Average GPA?\"),\n",
    "        html.Img(src='/assets/AvgGPAbyPartTime.png', style={'width': '50%'})\n",
    "    ]),\n",
    "    html.Div([\n",
    "        html.H2(\"Does participating in CCA affect the Average GPA of students?\"),\n",
    "        html.Img(src='/assets/AvgGPAbyParticipation.png', style={'width': '50%'})\n",
    "    ]),\n",
    "    html.Div([\n",
    "        html.H2(\"How does Game Timing affects the Average GPA of Students?\"),\n",
    "        html.Img(src='/assets/AvgGPAbyGameTiming.png', style={'width': '50%'})\n",
    "    ]),\n",
    "    html.Div([\n",
    "        html.H2(\"Agglomerative Clustering by Current GPA\"),\n",
    "        html.Img(src='/assets/ScatterClusterCurrent.png', style={'width': '50%'})\n",
    "    ]),\n",
    "    html.Div([\n",
    "        html.H2(\"Agglomerative Clustering by Desired GPA\"),\n",
    "        html.Img(src='/assets/ScatterClusterDesired.png', style={'width': '50%'})\n",
    "    ]),\n",
    "])\n",
    "\n",
    "# Run the app\n",
    "if __name__ == '__main__':\n",
    "    app_hongbin.run_server(debug=True, port=8063)"
   ]
  },
  {
   "cell_type": "code",
   "execution_count": null,
   "id": "09023422",
   "metadata": {},
   "outputs": [],
   "source": []
  }
 ],
 "metadata": {
  "kernelspec": {
   "display_name": "Python 3 (ipykernel)",
   "language": "python",
   "name": "python3"
  },
  "language_info": {
   "codemirror_mode": {
    "name": "ipython",
    "version": 3
   },
   "file_extension": ".py",
   "mimetype": "text/x-python",
   "name": "python",
   "nbconvert_exporter": "python",
   "pygments_lexer": "ipython3",
   "version": "3.11.7"
  }
 },
 "nbformat": 4,
 "nbformat_minor": 5
}
